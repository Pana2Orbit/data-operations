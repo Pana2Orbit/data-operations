{
 "cells": [
  {
   "cell_type": "markdown",
   "id": "ed57d1a4",
   "metadata": {},
   "source": [
    "# Data Extraction"
   ]
  },
  {
   "cell_type": "code",
   "execution_count": 1,
   "id": "0b569048",
   "metadata": {},
   "outputs": [
    {
     "name": "stderr",
     "output_type": "stream",
     "text": [
      "/Users/patriciorequena/Documents/PersonalProjects/NASA_Challenge_2025/data-operations/.venv/lib/python3.13/site-packages/tqdm/auto.py:21: TqdmWarning: IProgress not found. Please update jupyter and ipywidgets. See https://ipywidgets.readthedocs.io/en/stable/user_install.html\n",
      "  from .autonotebook import tqdm as notebook_tqdm\n"
     ]
    },
    {
     "name": "stdout",
     "output_type": "stream",
     "text": [
      "\u001b[32m2025-10-04T18:28:28.829601-0500\u001b[0m | \u001b[1mINFO\u001b[0m | Environment variables loaded successfully.\n"
     ]
    }
   ],
   "source": [
    "import os\n",
    "from pathlib import Path\n",
    "\n",
    "import earthaccess as ea\n",
    "import netCDF4 as nc\n",
    "import numpy as np\n",
    "import seaborn as sns\n",
    "import cartopy.crs as ccrs\n",
    "import cartopy.feature as cfeature\n",
    "import pandas as pd\n",
    "import xarray as xr\n",
    "from dotenv import load_dotenv, find_dotenv\n",
    "from matplotlib.path import Path as PolygonPath\n",
    "from src.services.utils import get_logger\n",
    "from src.services.google import Google\n",
    "\n",
    "logger = get_logger()\n",
    "env_loaded = load_dotenv(find_dotenv())\n",
    "if env_loaded:\n",
    "    logger.info(\"Environment variables loaded successfully.\")\n",
    "else:\n",
    "    logger.error(\"Failed to load environment variables.\")"
   ]
  },
  {
   "cell_type": "markdown",
   "id": "cf62856a",
   "metadata": {},
   "source": [
    "## Get data from different sources\n",
    "\n",
    "### Earth data login"
   ]
  },
  {
   "cell_type": "code",
   "execution_count": 2,
   "id": "52812b77",
   "metadata": {},
   "outputs": [],
   "source": [
    "EARTH_ACCESS_USERNAME = os.getenv(\"EARTH_ACCESS_USERNAME\")\n",
    "EARTH_ACCESS_PASSWORD = os.getenv(\"EARTH_ACCESS_PASSWORD\")\n",
    "auth = ea.login(EARTH_ACCESS_USERNAME, EARTH_ACCESS_PASSWORD)"
   ]
  },
  {
   "cell_type": "code",
   "execution_count": 1,
   "id": "5106fa80",
   "metadata": {},
   "outputs": [],
   "source": [
    "short_name = \"TEMPO_NO2_L3\"  # collection name to search for in the EarthData\n",
    "# short_name = \"OMHCHOd\"\n",
    "version = \"V03\"\n",
    "# version = \"003\"\n",
    "\n",
    "date_start = \"2025-01-01 00:00:00\"\n",
    "date_end = \"2025-01-01 15:59:59\"\n",
    "polygon_coords = [\n",
    "    (-120.0091050, 41.9727325),\n",
    "    (-124.6045661, 41.8898826),\n",
    "    (-120.4462801, 33.9044735),\n",
    "    (-117.1073262, 32.6184122),\n",
    "    (-114.2955756, 32.6554188),\n",
    "    (-114.1637748, 34.3047333),\n",
    "    (-114.7349117, 35.0995465),\n",
    "    (-120.0948112, 39.0254518),\n",
    "    (-120.0091050, 41.9727325),\n",
    "]"
   ]
  },
  {
   "cell_type": "code",
   "execution_count": 2,
   "id": "542dc1fa",
   "metadata": {},
   "outputs": [
    {
     "name": "stderr",
     "output_type": "stream",
     "text": [
      "/Users/patriciorequena/Documents/PersonalProjects/NASA_Challenge_2025/data-operations/.venv/lib/python3.13/site-packages/tqdm/auto.py:21: TqdmWarning: IProgress not found. Please update jupyter and ipywidgets. See https://ipywidgets.readthedocs.io/en/stable/user_install.html\n",
      "  from .autonotebook import tqdm as notebook_tqdm\n"
     ]
    },
    {
     "name": "stdout",
     "output_type": "stream",
     "text": [
      "earthdata-client | \u001b[32m2025-10-04T18:50:15.398342-0500\u001b[0m | \u001b[1mINFO\u001b[0m | Found 2 granules.\n"
     ]
    },
    {
     "name": "stderr",
     "output_type": "stream",
     "text": [
      "QUEUEING TASKS | : 100%|██████████| 1/1 [00:00<00:00, 1733.18it/s]\n",
      "PROCESSING TASKS | : 100%|██████████| 1/1 [00:16<00:00, 16.38s/it]\n",
      "COLLECTING RESULTS | : 100%|██████████| 1/1 [00:00<00:00, 18893.26it/s]"
     ]
    },
    {
     "name": "stdout",
     "output_type": "stream",
     "text": [
      "earthdata-client | \u001b[32m2025-10-04T18:50:31.807162-0500\u001b[0m | \u001b[1mINFO\u001b[0m | Opening file: /var/folders/78/l07nwp291d17m9j1z3ylv1n40000gn/T/earthdata_oxnu76kf/TEMPO_NO2_L3_V03_20250101T144826Z_S005.nc\n"
     ]
    },
    {
     "name": "stderr",
     "output_type": "stream",
     "text": [
      "\n",
      "QUEUEING TASKS | : 100%|██████████| 1/1 [00:00<00:00, 3890.82it/s]\n",
      "PROCESSING TASKS | : 100%|██████████| 1/1 [00:16<00:00, 16.46s/it]\n",
      "COLLECTING RESULTS | : 100%|██████████| 1/1 [00:00<00:00, 16070.13it/s]"
     ]
    },
    {
     "name": "stdout",
     "output_type": "stream",
     "text": [
      "earthdata-client | \u001b[32m2025-10-04T18:50:53.606690-0500\u001b[0m | \u001b[1mINFO\u001b[0m | Opening file: /var/folders/78/l07nwp291d17m9j1z3ylv1n40000gn/T/earthdata_oxnu76kf/TEMPO_NO2_L3_V03_20250101T144826Z_S005.nc\n",
      "earthdata-client | \u001b[32m2025-10-04T18:50:53.608151-0500\u001b[0m | \u001b[33m\u001b[1mWARNING\u001b[0m | Failed to open dataset: /var/folders/78/l07nwp291d17m9j1z3ylv1n40000gn/T/earthdata_oxnu76kf/TEMPO_NO2_L3_V03_20250101T144826Z_S005.nc\n",
      "earthdata-client | \u001b[32m2025-10-04T18:50:53.608700-0500\u001b[0m | \u001b[1mINFO\u001b[0m | Opening file: /var/folders/78/l07nwp291d17m9j1z3ylv1n40000gn/T/earthdata_oxnu76kf/TEMPO_NO2_L3_V03_20250101T154826Z_S006.nc\n"
     ]
    },
    {
     "name": "stderr",
     "output_type": "stream",
     "text": [
      "\n"
     ]
    },
    {
     "data": {
      "text/html": [
       "<div>\n",
       "<style scoped>\n",
       "    .dataframe tbody tr th:only-of-type {\n",
       "        vertical-align: middle;\n",
       "    }\n",
       "\n",
       "    .dataframe tbody tr th {\n",
       "        vertical-align: top;\n",
       "    }\n",
       "\n",
       "    .dataframe thead th {\n",
       "        text-align: right;\n",
       "    }\n",
       "</style>\n",
       "<table border=\"1\" class=\"dataframe\">\n",
       "  <thead>\n",
       "    <tr style=\"text-align: right;\">\n",
       "      <th></th>\n",
       "      <th>latitude</th>\n",
       "      <th>longitude</th>\n",
       "      <th>time</th>\n",
       "      <th>weight</th>\n",
       "    </tr>\n",
       "  </thead>\n",
       "  <tbody>\n",
       "    <tr>\n",
       "      <th>7217793</th>\n",
       "      <td>32.630001</td>\n",
       "      <td>-117.129997</td>\n",
       "      <td>2025-01-01 14:48:44.028173568</td>\n",
       "      <td>4.162722</td>\n",
       "    </tr>\n",
       "    <tr>\n",
       "      <th>7217794</th>\n",
       "      <td>32.630001</td>\n",
       "      <td>-117.110001</td>\n",
       "      <td>2025-01-01 14:48:44.028173568</td>\n",
       "      <td>4.162722</td>\n",
       "    </tr>\n",
       "    <tr>\n",
       "      <th>7217795</th>\n",
       "      <td>32.630001</td>\n",
       "      <td>-117.089996</td>\n",
       "      <td>2025-01-01 14:48:44.028173568</td>\n",
       "      <td>4.360855</td>\n",
       "    </tr>\n",
       "    <tr>\n",
       "      <th>7217796</th>\n",
       "      <td>32.630001</td>\n",
       "      <td>-117.070000</td>\n",
       "      <td>2025-01-01 14:48:44.028173568</td>\n",
       "      <td>4.162722</td>\n",
       "    </tr>\n",
       "    <tr>\n",
       "      <th>7217797</th>\n",
       "      <td>32.630001</td>\n",
       "      <td>-117.050003</td>\n",
       "      <td>2025-01-01 14:48:44.028173568</td>\n",
       "      <td>4.162722</td>\n",
       "    </tr>\n",
       "  </tbody>\n",
       "</table>\n",
       "</div>"
      ],
      "text/plain": [
       "          latitude   longitude                          time    weight\n",
       "7217793  32.630001 -117.129997 2025-01-01 14:48:44.028173568  4.162722\n",
       "7217794  32.630001 -117.110001 2025-01-01 14:48:44.028173568  4.162722\n",
       "7217795  32.630001 -117.089996 2025-01-01 14:48:44.028173568  4.360855\n",
       "7217796  32.630001 -117.070000 2025-01-01 14:48:44.028173568  4.162722\n",
       "7217797  32.630001 -117.050003 2025-01-01 14:48:44.028173568  4.162722"
      ]
     },
     "execution_count": 2,
     "metadata": {},
     "output_type": "execute_result"
    }
   ],
   "source": [
    "from src.services.earth_data import EarthDataClient\n",
    "\n",
    "eac = EarthDataClient()\n",
    "df = eac.get_data(\n",
    "    dataset_name=short_name,\n",
    "    dataset_version=version,\n",
    "    start_date=date_start,\n",
    "    end_date=date_end,\n",
    "    polygon=polygon_coords,\n",
    ")\n",
    "df.head()"
   ]
  },
  {
   "cell_type": "code",
   "execution_count": 3,
   "id": "a0388769",
   "metadata": {},
   "outputs": [
    {
     "name": "stdout",
     "output_type": "stream",
     "text": [
      "Total records retrieved: 214348\n",
      "Total records after dropping NaNs: 214348\n"
     ]
    }
   ],
   "source": [
    "print(f\"Total records retrieved: {len(df)}\")\n",
    "df.dropna(inplace=True)\n",
    "print(f\"Total records after dropping NaNs: {len(df)}\")"
   ]
  },
  {
   "cell_type": "code",
   "execution_count": 4,
   "id": "e13d9a62",
   "metadata": {},
   "outputs": [
    {
     "data": {
      "text/plain": [
       "latitude     0\n",
       "longitude    0\n",
       "time         0\n",
       "weight       0\n",
       "dtype: int64"
      ]
     },
     "execution_count": 4,
     "metadata": {},
     "output_type": "execute_result"
    }
   ],
   "source": [
    "df.isna().sum()"
   ]
  },
  {
   "cell_type": "markdown",
   "id": "a134f8fc",
   "metadata": {},
   "source": [
    "## Load data to NO2 historical data"
   ]
  },
  {
   "cell_type": "code",
   "execution_count": null,
   "id": "016e3485",
   "metadata": {},
   "outputs": [],
   "source": [
    "import time\n",
    "from src.etl.extract_load_no2 import extract_and_load_no2\n",
    "\n",
    "short_name = \"TEMPO_NO2_L3\"  # collection name to search for in the EarthData\n",
    "# short_name = \"OMHCHOd\"\n",
    "version = \"V03\"\n",
    "# version = \"003\"\n",
    "\n",
    "date_start = \"2024-01-01 00:00:00\"\n",
    "date_end = \"2024-01-31 23:59:59\"\n",
    "polygon_coords = [\n",
    "    (-120.0091050, 41.9727325),\n",
    "    (-124.6045661, 41.8898826),\n",
    "    (-120.4462801, 33.9044735),\n",
    "    (-117.1073262, 32.6184122),\n",
    "    (-114.2955756, 32.6554188),\n",
    "    (-114.1637748, 34.3047333),\n",
    "    (-114.7349117, 35.0995465),\n",
    "    (-120.0948112, 39.0254518),\n",
    "    (-120.0091050, 41.9727325),\n",
    "]\n",
    "\n",
    "start_run_time = time.time()\n",
    "_ = extract_and_load_no2(\n",
    "    dataset_name=short_name,\n",
    "    dataset_version=version,\n",
    "    start_date=date_start,\n",
    "    end_date=date_end,\n",
    "    polygon=polygon_coords,\n",
    ")\n",
    "end_run_time = time.time()\n",
    "elapsed_time = end_run_time - start_run_time\n",
    "print(f\"ETL process completed in {elapsed_time:.2f} seconds.\")"
   ]
  },
  {
   "cell_type": "code",
   "execution_count": null,
   "id": "5dbdadc6",
   "metadata": {},
   "outputs": [
    {
     "name": "stdout",
     "output_type": "stream",
     "text": [
      "\u001b[32m2025-10-04T17:12:05.948804-0500\u001b[0m | \u001b[1mINFO\u001b[0m | BigQuery client initialized (project=%s, location=%s)\n"
     ]
    },
    {
     "name": "stderr",
     "output_type": "stream",
     "text": [
      "/Users/patriciorequena/Documents/PersonalProjects/NASA_Challenge_2025/data-operations/.venv/lib/python3.13/site-packages/google/auth/_default.py:108: UserWarning: Your application has authenticated using end user credentials from Google Cloud SDK without a quota project. You might receive a \"quota exceeded\" or \"API not enabled\" error. See the following page for troubleshooting: https://cloud.google.com/docs/authentication/adc-troubleshooting/user-creds. \n",
      "  warnings.warn(_CLOUD_SDK_CREDENTIALS_WARNING)\n"
     ]
    },
    {
     "name": "stdout",
     "output_type": "stream",
     "text": [
      "\u001b[32m2025-10-04T17:12:07.074801-0500\u001b[0m | \u001b[1mINFO\u001b[0m | Dataset %s already exists (project=%s).\n",
      "\u001b[32m2025-10-04T17:12:11.427748-0500\u001b[0m | \u001b[1mINFO\u001b[0m | Data uploaded successfully.\n"
     ]
    }
   ],
   "source": [
    "google = Google()\n",
    "_ = google.bigquery.upload_data_from_dataframe(\n",
    "    df,\n",
    "    dataset=\"earth_data\",\n",
    "    table_id=\"no2_historical\"\n",
    ")"
   ]
  }
 ],
 "metadata": {
  "kernelspec": {
   "display_name": ".venv",
   "language": "python",
   "name": "python3"
  },
  "language_info": {
   "codemirror_mode": {
    "name": "ipython",
    "version": 3
   },
   "file_extension": ".py",
   "mimetype": "text/x-python",
   "name": "python",
   "nbconvert_exporter": "python",
   "pygments_lexer": "ipython3",
   "version": "3.13.5"
  }
 },
 "nbformat": 4,
 "nbformat_minor": 5
}
