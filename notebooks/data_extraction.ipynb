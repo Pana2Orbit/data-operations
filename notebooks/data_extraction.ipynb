{
 "cells": [
  {
   "cell_type": "markdown",
   "id": "ed57d1a4",
   "metadata": {},
   "source": [
    "# Data Extraction"
   ]
  },
  {
   "cell_type": "code",
   "execution_count": 16,
   "id": "0b569048",
   "metadata": {},
   "outputs": [
    {
     "name": "stdout",
     "output_type": "stream",
     "text": [
      "\u001b[32m2025-10-04T16:50:50.336877-0500\u001b[0m | \u001b[1mINFO\u001b[0m | Environment variables loaded successfully.\n"
     ]
    }
   ],
   "source": [
    "import os\n",
    "from pathlib import Path\n",
    "\n",
    "import earthaccess as ea\n",
    "import netCDF4 as nc\n",
    "import numpy as np\n",
    "import seaborn as sns\n",
    "import cartopy.crs as ccrs\n",
    "import cartopy.feature as cfeature\n",
    "import pandas as pd\n",
    "import xarray as xr\n",
    "from dotenv import load_dotenv, find_dotenv\n",
    "from matplotlib.path import Path as PolygonPath\n",
    "from src.services.utils import get_logger\n",
    "from src.services.google import Google\n",
    "\n",
    "logger = get_logger()\n",
    "env_loaded = load_dotenv(find_dotenv())\n",
    "if env_loaded:\n",
    "    logger.info(\"Environment variables loaded successfully.\")\n",
    "else:\n",
    "    logger.error(\"Failed to load environment variables.\")"
   ]
  },
  {
   "cell_type": "markdown",
   "id": "cf62856a",
   "metadata": {},
   "source": [
    "## Get data from different sources\n",
    "\n",
    "### Earth data login"
   ]
  },
  {
   "cell_type": "code",
   "execution_count": 2,
   "id": "eb273309",
   "metadata": {},
   "outputs": [],
   "source": [
    "auth = ea.login(persist=True)"
   ]
  },
  {
   "cell_type": "code",
   "execution_count": 12,
   "id": "5106fa80",
   "metadata": {},
   "outputs": [],
   "source": [
    "short_name = \"TEMPO_NO2_L3\"  # collection name to search for in the EarthData\n",
    "version = \"V03\"\n",
    "\n",
    "# Point of interest: NASA Langley Research Center, HamptonVA, USA\n",
    "# latitude 37.1036 deg, longitude -76.3868 deg\n",
    "# POI_lat = 37.1036\n",
    "# POI_lon = -76.3868\n",
    "\n",
    "# generic location, somewhere in the middle of the USA\n",
    "POI_lat = 38.89\n",
    "POI_lon = -96.0\n",
    "date_start = \"2025-01-01 00:00:00\"\n",
    "date_end = \"2025-01-01 23:59:59\"\n",
    "lon_lat1 = (-124.3175932, 41.9956687)\n",
    "lon_lat2 = (-114.0125075, 34.2200353)\n",
    "lon_lat3 = (-120.0016328, 41.9936434)\n",
    "lon_lat4 = (-124.3175932, 41.9956687) \n",
    "polygon_coords = [\n",
    "    (-120.0091050, 41.9727325),\n",
    "    (-124.6045661, 41.8898826),\n",
    "    (-120.4462801, 33.9044735),\n",
    "    (-117.1073262, 32.6184122),\n",
    "    (-114.2955756, 32.6554188),\n",
    "    (-114.1637748, 34.3047333),\n",
    "    (-114.7349117, 35.0995465),\n",
    "    (-120.0948112, 39.0254518),\n",
    "    (-120.0091050, 41.9727325),\n",
    "]"
   ]
  },
  {
   "cell_type": "code",
   "execution_count": 13,
   "id": "2813d642",
   "metadata": {},
   "outputs": [
    {
     "name": "stdout",
     "output_type": "stream",
     "text": [
      "10\n"
     ]
    }
   ],
   "source": [
    "results = ea.search_data(\n",
    "    short_name=short_name,\n",
    "    version=version,\n",
    "    temporal=(date_start, date_end),\n",
    "    polygon=polygon_coords,\n",
    ")\n",
    "print(len(results))"
   ]
  },
  {
   "cell_type": "code",
   "execution_count": 7,
   "id": "415ce8de",
   "metadata": {},
   "outputs": [
    {
     "name": "stderr",
     "output_type": "stream",
     "text": [
      "QUEUEING TASKS | : 100%|██████████| 1/1 [00:00<00:00, 1346.05it/s]\n",
      "PROCESSING TASKS | : 100%|██████████| 1/1 [00:15<00:00, 15.65s/it]\n",
      "COLLECTING RESULTS | : 100%|██████████| 1/1 [00:00<00:00, 8848.74it/s]\n",
      "QUEUEING TASKS | : 100%|██████████| 1/1 [00:00<00:00, 1908.24it/s]\n",
      "PROCESSING TASKS | : 100%|██████████| 1/1 [00:16<00:00, 16.75s/it]\n",
      "COLLECTING RESULTS | : 100%|██████████| 1/1 [00:00<00:00, 9986.44it/s]\n",
      "QUEUEING TASKS | : 100%|██████████| 1/1 [00:00<00:00, 1253.15it/s]\n",
      "PROCESSING TASKS | : 100%|██████████| 1/1 [00:16<00:00, 16.28s/it]\n",
      "COLLECTING RESULTS | : 100%|██████████| 1/1 [00:00<00:00, 28728.11it/s]\n",
      "QUEUEING TASKS | : 100%|██████████| 1/1 [00:00<00:00, 1852.61it/s]\n",
      "PROCESSING TASKS | : 100%|██████████| 1/1 [00:16<00:00, 16.47s/it]\n",
      "COLLECTING RESULTS | : 100%|██████████| 1/1 [00:00<00:00, 28728.11it/s]\n",
      "QUEUEING TASKS | : 100%|██████████| 1/1 [00:00<00:00, 3113.81it/s]\n",
      "PROCESSING TASKS | : 100%|██████████| 1/1 [00:37<00:00, 37.00s/it]\n",
      "COLLECTING RESULTS | : 100%|██████████| 1/1 [00:00<00:00, 10205.12it/s]\n",
      "QUEUEING TASKS | : 100%|██████████| 1/1 [00:00<00:00, 1642.25it/s]\n",
      "PROCESSING TASKS | : 100%|██████████| 1/1 [00:16<00:00, 16.27s/it]\n",
      "COLLECTING RESULTS | : 100%|██████████| 1/1 [00:00<00:00, 12787.51it/s]\n",
      "QUEUEING TASKS | : 100%|██████████| 1/1 [00:00<00:00, 1035.12it/s]\n",
      "PROCESSING TASKS | : 100%|██████████| 1/1 [00:14<00:00, 14.60s/it]\n",
      "COLLECTING RESULTS | : 100%|██████████| 1/1 [00:00<00:00, 10180.35it/s]\n",
      "QUEUEING TASKS | : 100%|██████████| 1/1 [00:00<00:00, 1250.17it/s]\n",
      "PROCESSING TASKS | : 100%|██████████| 1/1 [00:11<00:00, 11.19s/it]\n",
      "COLLECTING RESULTS | : 100%|██████████| 1/1 [00:00<00:00, 15196.75it/s]\n",
      "QUEUEING TASKS | : 100%|██████████| 1/1 [00:00<00:00, 752.48it/s]\n",
      "PROCESSING TASKS | : 100%|██████████| 1/1 [00:12<00:00, 12.90s/it]\n",
      "COLLECTING RESULTS | : 100%|██████████| 1/1 [00:00<00:00, 14463.12it/s]\n",
      "QUEUEING TASKS | : 100%|██████████| 1/1 [00:00<00:00, 1733.90it/s]\n",
      "PROCESSING TASKS | : 100%|██████████| 1/1 [00:09<00:00,  9.58s/it]\n",
      "COLLECTING RESULTS | : 100%|██████████| 1/1 [00:00<00:00, 15887.52it/s]\n"
     ]
    }
   ],
   "source": [
    "data_extraction_path = Path(\"./data/data_extraction/\")\n",
    "if data_extraction_path.exists() and data_extraction_path.is_dir():\n",
    "    for file in data_extraction_path.iterdir():\n",
    "        if file.is_file():\n",
    "            file.unlink()\n",
    "else:\n",
    "    data_extraction_path.mkdir(parents=True, exist_ok=True)\n",
    "file_paths = []\n",
    "for result in results:\n",
    "    file = ea.download(result, local_path=str(data_extraction_path))\n",
    "    file_paths.append(str(file[0]))"
   ]
  },
  {
   "cell_type": "code",
   "execution_count": 7,
   "id": "980dbe25",
   "metadata": {},
   "outputs": [
    {
     "name": "stdout",
     "output_type": "stream",
     "text": [
      "Number of files downloaded: 10\n"
     ]
    }
   ],
   "source": [
    "# Get all the file paths in the folder data/data_extraction\n",
    "file_paths = [str(file) for file in data_extraction_path.iterdir() if file.is_file()]\n",
    "print(f\"Number of files downloaded: {len(file_paths)}\")"
   ]
  },
  {
   "cell_type": "code",
   "execution_count": 8,
   "id": "3dd3430f",
   "metadata": {},
   "outputs": [
    {
     "data": {
      "text/html": [
       "<div>\n",
       "<style scoped>\n",
       "    .dataframe tbody tr th:only-of-type {\n",
       "        vertical-align: middle;\n",
       "    }\n",
       "\n",
       "    .dataframe tbody tr th {\n",
       "        vertical-align: top;\n",
       "    }\n",
       "\n",
       "    .dataframe thead th {\n",
       "        text-align: right;\n",
       "    }\n",
       "</style>\n",
       "<table border=\"1\" class=\"dataframe\">\n",
       "  <thead>\n",
       "    <tr style=\"text-align: right;\">\n",
       "      <th></th>\n",
       "      <th>latitude</th>\n",
       "      <th>longitude</th>\n",
       "      <th>time</th>\n",
       "      <th>weight</th>\n",
       "    </tr>\n",
       "  </thead>\n",
       "  <tbody>\n",
       "    <tr>\n",
       "      <th>0</th>\n",
       "      <td>14.01</td>\n",
       "      <td>-167.990005</td>\n",
       "      <td>2025-01-01 18:48:44.022033664</td>\n",
       "      <td>NaN</td>\n",
       "    </tr>\n",
       "    <tr>\n",
       "      <th>1</th>\n",
       "      <td>14.01</td>\n",
       "      <td>-167.970001</td>\n",
       "      <td>2025-01-01 18:48:44.022033664</td>\n",
       "      <td>NaN</td>\n",
       "    </tr>\n",
       "    <tr>\n",
       "      <th>2</th>\n",
       "      <td>14.01</td>\n",
       "      <td>-167.949997</td>\n",
       "      <td>2025-01-01 18:48:44.022033664</td>\n",
       "      <td>NaN</td>\n",
       "    </tr>\n",
       "    <tr>\n",
       "      <th>3</th>\n",
       "      <td>14.01</td>\n",
       "      <td>-167.929993</td>\n",
       "      <td>2025-01-01 18:48:44.022033664</td>\n",
       "      <td>NaN</td>\n",
       "    </tr>\n",
       "    <tr>\n",
       "      <th>4</th>\n",
       "      <td>14.01</td>\n",
       "      <td>-167.910004</td>\n",
       "      <td>2025-01-01 18:48:44.022033664</td>\n",
       "      <td>NaN</td>\n",
       "    </tr>\n",
       "  </tbody>\n",
       "</table>\n",
       "</div>"
      ],
      "text/plain": [
       "   latitude   longitude                          time  weight\n",
       "0     14.01 -167.990005 2025-01-01 18:48:44.022033664     NaN\n",
       "1     14.01 -167.970001 2025-01-01 18:48:44.022033664     NaN\n",
       "2     14.01 -167.949997 2025-01-01 18:48:44.022033664     NaN\n",
       "3     14.01 -167.929993 2025-01-01 18:48:44.022033664     NaN\n",
       "4     14.01 -167.910004 2025-01-01 18:48:44.022033664     NaN"
      ]
     },
     "execution_count": 8,
     "metadata": {},
     "output_type": "execute_result"
    }
   ],
   "source": [
    "granule_name = str(file_paths[0])\n",
    "no2_jan_01 = xr.open_dataset(granule_name) \\\n",
    "    .stack(point=(\"latitude\", \"longitude\")) \\\n",
    "    .to_dataframe().reset_index()\n",
    "no2_jan_01.head()"
   ]
  },
  {
   "cell_type": "code",
   "execution_count": 9,
   "id": "4a0109b1",
   "metadata": {},
   "outputs": [
    {
     "name": "stdout",
     "output_type": "stream",
     "text": [
      "\u001b[32m2025-10-04T16:42:08.253321-0500\u001b[0m | \u001b[1mINFO\u001b[0m | Original size: 22862500\n",
      "\u001b[32m2025-10-04T16:42:08.561495-0500\u001b[0m | \u001b[1mINFO\u001b[0m | After dropping NaNs: 8496441\n"
     ]
    },
    {
     "data": {
      "text/html": [
       "<div>\n",
       "<style scoped>\n",
       "    .dataframe tbody tr th:only-of-type {\n",
       "        vertical-align: middle;\n",
       "    }\n",
       "\n",
       "    .dataframe tbody tr th {\n",
       "        vertical-align: top;\n",
       "    }\n",
       "\n",
       "    .dataframe thead th {\n",
       "        text-align: right;\n",
       "    }\n",
       "</style>\n",
       "<table border=\"1\" class=\"dataframe\">\n",
       "  <thead>\n",
       "    <tr style=\"text-align: right;\">\n",
       "      <th></th>\n",
       "      <th>latitude</th>\n",
       "      <th>longitude</th>\n",
       "      <th>time</th>\n",
       "      <th>weight</th>\n",
       "    </tr>\n",
       "  </thead>\n",
       "  <tbody>\n",
       "    <tr>\n",
       "      <th>1228064</th>\n",
       "      <td>17.17</td>\n",
       "      <td>-96.709999</td>\n",
       "      <td>2025-01-01 18:48:44.022033664</td>\n",
       "      <td>0.016156</td>\n",
       "    </tr>\n",
       "  </tbody>\n",
       "</table>\n",
       "</div>"
      ],
      "text/plain": [
       "         latitude  longitude                          time    weight\n",
       "1228064     17.17 -96.709999 2025-01-01 18:48:44.022033664  0.016156"
      ]
     },
     "execution_count": 9,
     "metadata": {},
     "output_type": "execute_result"
    }
   ],
   "source": [
    "logger.info(f\"Original size: {no2_jan_01.shape[0]}\")\n",
    "no2_jan_01.dropna(inplace=True)\n",
    "logger.info(f\"After dropping NaNs: {no2_jan_01.shape[0]}\")\n",
    "no2_jan_01.head(1)"
   ]
  },
  {
   "cell_type": "code",
   "execution_count": 17,
   "id": "778acdb5",
   "metadata": {},
   "outputs": [
    {
     "name": "stdout",
     "output_type": "stream",
     "text": [
      "\u001b[32m2025-10-04T16:50:53.694365-0500\u001b[0m | \u001b[1mINFO\u001b[0m | After polygon filter: 107174\n"
     ]
    }
   ],
   "source": [
    "# Filter the dataframe to include only points inside the polygon\n",
    "polygon_path = PolygonPath(polygon_coords)\n",
    "mask = polygon_path.contains_points(no2_jan_01[['longitude', 'latitude']].values)\n",
    "no2_jan_01 = no2_jan_01[mask]\n",
    "logger.info(f\"After polygon filter: {no2_jan_01.shape[0]}\")"
   ]
  },
  {
   "cell_type": "code",
   "execution_count": null,
   "id": "3d73a1a4",
   "metadata": {},
   "outputs": [],
   "source": []
  },
  {
   "cell_type": "code",
   "execution_count": 12,
   "id": "5dbdadc6",
   "metadata": {},
   "outputs": [
    {
     "ename": "ValueError",
     "evalue": "This method requires pyarrow to be installed",
     "output_type": "error",
     "traceback": [
      "\u001b[31m---------------------------------------------------------------------------\u001b[39m",
      "\u001b[31mValueError\u001b[39m                                Traceback (most recent call last)",
      "\u001b[36mCell\u001b[39m\u001b[36m \u001b[39m\u001b[32mIn[12]\u001b[39m\u001b[32m, line 2\u001b[39m\n\u001b[32m      1\u001b[39m google = Google()\n\u001b[32m----> \u001b[39m\u001b[32m2\u001b[39m _ = \u001b[43mgoogle\u001b[49m\u001b[43m.\u001b[49m\u001b[43mbigquery\u001b[49m\u001b[43m.\u001b[49m\u001b[43mupload_data_from_dataframe\u001b[49m\u001b[43m(\u001b[49m\u001b[43mno2_jan_01\u001b[49m\u001b[43m,\u001b[49m\u001b[43m \u001b[49m\u001b[43mdataset\u001b[49m\u001b[43m=\u001b[49m\u001b[33;43m\"\u001b[39;49m\u001b[33;43mearth_data\u001b[39;49m\u001b[33;43m\"\u001b[39;49m\u001b[43m,\u001b[49m\u001b[43m \u001b[49m\u001b[43mtable_id\u001b[49m\u001b[43m=\u001b[49m\u001b[33;43m\"\u001b[39;49m\u001b[33;43mno2_historical\u001b[39;49m\u001b[33;43m\"\u001b[39;49m\u001b[43m)\u001b[49m\n",
      "\u001b[36mFile \u001b[39m\u001b[32m~/Documents/PersonalProjects/NASA_Challenge_2025/data-operations/src/services/google/bigquery.py:56\u001b[39m, in \u001b[36mBigQueryClient.upload_data_from_dataframe\u001b[39m\u001b[34m(self, df, dataset, table_id)\u001b[39m\n\u001b[32m     45\u001b[39m \u001b[38;5;250m\u001b[39m\u001b[33;03m\"\"\"\u001b[39;00m\n\u001b[32m     46\u001b[39m \u001b[33;03mUpload a pandas DataFrame to a specified BigQuery table.\u001b[39;00m\n\u001b[32m     47\u001b[39m \n\u001b[32m   (...)\u001b[39m\u001b[32m     51\u001b[39m \u001b[33;03m    table_id: The BigQuery table ID in the format `dataset.table`.\u001b[39;00m\n\u001b[32m     52\u001b[39m \u001b[33;03m\"\"\"\u001b[39;00m\n\u001b[32m     53\u001b[39m job_config = bigquery.LoadJobConfig(\n\u001b[32m     54\u001b[39m     write_disposition=bigquery.WriteDisposition.WRITE_TRUNCATE,\n\u001b[32m     55\u001b[39m )\n\u001b[32m---> \u001b[39m\u001b[32m56\u001b[39m load_job = \u001b[38;5;28;43mself\u001b[39;49m\u001b[43m.\u001b[49m\u001b[43mclient\u001b[49m\u001b[43m.\u001b[49m\u001b[43mload_table_from_dataframe\u001b[49m\u001b[43m(\u001b[49m\n\u001b[32m     57\u001b[39m \u001b[43m    \u001b[49m\u001b[43mdf\u001b[49m\u001b[43m,\u001b[49m\u001b[43m \u001b[49m\u001b[33;43mf\u001b[39;49m\u001b[33;43m\"\u001b[39;49m\u001b[38;5;132;43;01m{\u001b[39;49;00m\u001b[38;5;28;43mself\u001b[39;49m\u001b[43m.\u001b[49m\u001b[43mproject_id\u001b[49m\u001b[38;5;132;43;01m}\u001b[39;49;00m\u001b[33;43m.\u001b[39;49m\u001b[38;5;132;43;01m{\u001b[39;49;00m\u001b[43mdataset\u001b[49m\u001b[38;5;132;43;01m}\u001b[39;49;00m\u001b[33;43m.\u001b[39;49m\u001b[38;5;132;43;01m{\u001b[39;49;00m\u001b[43mtable_id\u001b[49m\u001b[38;5;132;43;01m}\u001b[39;49;00m\u001b[33;43m\"\u001b[39;49m\u001b[43m,\u001b[49m\u001b[43m \u001b[49m\u001b[43mjob_config\u001b[49m\u001b[43m=\u001b[49m\u001b[43mjob_config\u001b[49m\n\u001b[32m     58\u001b[39m \u001b[43m\u001b[49m\u001b[43m)\u001b[49m\n\u001b[32m     59\u001b[39m result = load_job.result()\n\u001b[32m     60\u001b[39m \u001b[38;5;28;01mif\u001b[39;00m result.errors:\n",
      "\u001b[36mFile \u001b[39m\u001b[32m~/Documents/PersonalProjects/NASA_Challenge_2025/data-operations/.venv/lib/python3.13/site-packages/google/cloud/bigquery/client.py:2831\u001b[39m, in \u001b[36mClient.load_table_from_dataframe\u001b[39m\u001b[34m(self, dataframe, destination, num_retries, job_id, job_id_prefix, location, project, job_config, parquet_compression, timeout)\u001b[39m\n\u001b[32m   2823\u001b[39m     \u001b[38;5;28;01mraise\u001b[39;00m \u001b[38;5;167;01mValueError\u001b[39;00m(\n\u001b[32m   2824\u001b[39m         \u001b[33m\"\u001b[39m\u001b[33mGot unexpected source_format: \u001b[39m\u001b[33m'\u001b[39m\u001b[38;5;132;01m{}\u001b[39;00m\u001b[33m'\u001b[39m\u001b[33m. Currently, only PARQUET and CSV are supported\u001b[39m\u001b[33m\"\u001b[39m.format(\n\u001b[32m   2825\u001b[39m             new_job_config.source_format\n\u001b[32m   2826\u001b[39m         )\n\u001b[32m   2827\u001b[39m     )\n\u001b[32m   2829\u001b[39m \u001b[38;5;28;01mif\u001b[39;00m pyarrow \u001b[38;5;129;01mis\u001b[39;00m \u001b[38;5;28;01mNone\u001b[39;00m \u001b[38;5;129;01mand\u001b[39;00m new_job_config.source_format == job.SourceFormat.PARQUET:\n\u001b[32m   2830\u001b[39m     \u001b[38;5;66;03m# pyarrow is now the only supported parquet engine.\u001b[39;00m\n\u001b[32m-> \u001b[39m\u001b[32m2831\u001b[39m     \u001b[38;5;28;01mraise\u001b[39;00m \u001b[38;5;167;01mValueError\u001b[39;00m(\u001b[33m\"\u001b[39m\u001b[33mThis method requires pyarrow to be installed\u001b[39m\u001b[33m\"\u001b[39m)\n\u001b[32m   2833\u001b[39m \u001b[38;5;28;01mif\u001b[39;00m location \u001b[38;5;129;01mis\u001b[39;00m \u001b[38;5;28;01mNone\u001b[39;00m:\n\u001b[32m   2834\u001b[39m     location = \u001b[38;5;28mself\u001b[39m.location\n",
      "\u001b[31mValueError\u001b[39m: This method requires pyarrow to be installed"
     ]
    }
   ],
   "source": [
    "google = Google()\n",
    "_ = google.bigquery.upload_data_from_dataframe(no2_jan_01, dataset=\"earth_data\", table_id=\"no2_historical\")"
   ]
  },
  {
   "cell_type": "code",
   "execution_count": 102,
   "id": "f64b3f93",
   "metadata": {},
   "outputs": [
    {
     "data": {
      "text/plain": [
       "7.221438645980253"
      ]
     },
     "execution_count": 102,
     "metadata": {},
     "output_type": "execute_result"
    }
   ],
   "source": [
    "1024/141.8"
   ]
  },
  {
   "cell_type": "code",
   "execution_count": 101,
   "id": "fd61daa8",
   "metadata": {},
   "outputs": [
    {
     "name": "stdout",
     "output_type": "stream",
     "text": [
      "<class 'pandas.core.frame.DataFrame'>\n",
      "Index: 5311609 entries, 1228076 to 19289281\n",
      "Data columns (total 4 columns):\n",
      " #   Column     Dtype         \n",
      "---  ------     -----         \n",
      " 0   latitude   float32       \n",
      " 1   longitude  float32       \n",
      " 2   time       datetime64[ns]\n",
      " 3   weight     float32       \n",
      "dtypes: datetime64[ns](1), float32(3)\n",
      "memory usage: 141.8 MB\n"
     ]
    }
   ],
   "source": [
    "df2.info()"
   ]
  },
  {
   "cell_type": "code",
   "execution_count": 99,
   "id": "a0cc42ec",
   "metadata": {},
   "outputs": [
    {
     "data": {
      "text/plain": [
       "1950000000"
      ]
     },
     "execution_count": 99,
     "metadata": {},
     "output_type": "execute_result"
    }
   ],
   "source": [
    "13*5_000_000*30"
   ]
  },
  {
   "cell_type": "code",
   "execution_count": 98,
   "id": "310229cb",
   "metadata": {},
   "outputs": [
    {
     "data": {
      "text/plain": [
       "<Axes: xlabel='longitude', ylabel='weight'>"
      ]
     },
     "execution_count": 98,
     "metadata": {},
     "output_type": "execute_result"
    },
    {
     "data": {
      "image/png": "[encoded data removed]",
      "text/plain": [
       "<Figure size 640x480 with 1 Axes>"
      ]
     },
     "metadata": {},
     "output_type": "display_data"
    }
   ],
   "source": [
    "sns.lineplot(x=\"longitude\", y=\"weight\", data=df2[df2[\"latitude\"] == 17.17])"
   ]
  },
  {
   "cell_type": "code",
   "execution_count": 97,
   "id": "59b3055a",
   "metadata": {},
   "outputs": [
    {
     "data": {
      "text/html": [
       "<div>\n",
       "<style scoped>\n",
       "    .dataframe tbody tr th:only-of-type {\n",
       "        vertical-align: middle;\n",
       "    }\n",
       "\n",
       "    .dataframe tbody tr th {\n",
       "        vertical-align: top;\n",
       "    }\n",
       "\n",
       "    .dataframe thead th {\n",
       "        text-align: right;\n",
       "    }\n",
       "</style>\n",
       "<table border=\"1\" class=\"dataframe\">\n",
       "  <thead>\n",
       "    <tr style=\"text-align: right;\">\n",
       "      <th></th>\n",
       "      <th>latitude</th>\n",
       "      <th>longitude</th>\n",
       "      <th>time</th>\n",
       "      <th>weight</th>\n",
       "    </tr>\n",
       "  </thead>\n",
       "  <tbody>\n",
       "    <tr>\n",
       "      <th>1228076</th>\n",
       "      <td>17.17</td>\n",
       "      <td>-96.470001</td>\n",
       "      <td>2025-01-01 12:48:20.024286464</td>\n",
       "      <td>0.002407</td>\n",
       "    </tr>\n",
       "    <tr>\n",
       "      <th>1228077</th>\n",
       "      <td>17.17</td>\n",
       "      <td>-96.449997</td>\n",
       "      <td>2025-01-01 12:48:20.024286464</td>\n",
       "      <td>0.031854</td>\n",
       "    </tr>\n",
       "    <tr>\n",
       "      <th>1228079</th>\n",
       "      <td>17.17</td>\n",
       "      <td>-96.410004</td>\n",
       "      <td>2025-01-01 12:48:20.024286464</td>\n",
       "      <td>0.026104</td>\n",
       "    </tr>\n",
       "    <tr>\n",
       "      <th>1228080</th>\n",
       "      <td>17.17</td>\n",
       "      <td>-96.389999</td>\n",
       "      <td>2025-01-01 12:48:20.024286464</td>\n",
       "      <td>0.151505</td>\n",
       "    </tr>\n",
       "    <tr>\n",
       "      <th>1228081</th>\n",
       "      <td>17.17</td>\n",
       "      <td>-96.370003</td>\n",
       "      <td>2025-01-01 12:48:20.024286464</td>\n",
       "      <td>0.282363</td>\n",
       "    </tr>\n",
       "    <tr>\n",
       "      <th>1228082</th>\n",
       "      <td>17.17</td>\n",
       "      <td>-96.349998</td>\n",
       "      <td>2025-01-01 12:48:20.024286464</td>\n",
       "      <td>0.145316</td>\n",
       "    </tr>\n",
       "    <tr>\n",
       "      <th>1228096</th>\n",
       "      <td>17.17</td>\n",
       "      <td>-96.070000</td>\n",
       "      <td>2025-01-01 12:48:20.024286464</td>\n",
       "      <td>0.076448</td>\n",
       "    </tr>\n",
       "    <tr>\n",
       "      <th>1228097</th>\n",
       "      <td>17.17</td>\n",
       "      <td>-96.050003</td>\n",
       "      <td>2025-01-01 12:48:20.024286464</td>\n",
       "      <td>0.096833</td>\n",
       "    </tr>\n",
       "    <tr>\n",
       "      <th>1228238</th>\n",
       "      <td>17.17</td>\n",
       "      <td>-93.230003</td>\n",
       "      <td>2025-01-01 12:48:20.024286464</td>\n",
       "      <td>0.050661</td>\n",
       "    </tr>\n",
       "    <tr>\n",
       "      <th>1228239</th>\n",
       "      <td>17.17</td>\n",
       "      <td>-93.209999</td>\n",
       "      <td>2025-01-01 12:48:20.024286464</td>\n",
       "      <td>0.321145</td>\n",
       "    </tr>\n",
       "    <tr>\n",
       "      <th>1228240</th>\n",
       "      <td>17.17</td>\n",
       "      <td>-93.190002</td>\n",
       "      <td>2025-01-01 12:48:20.024286464</td>\n",
       "      <td>0.444287</td>\n",
       "    </tr>\n",
       "    <tr>\n",
       "      <th>1228241</th>\n",
       "      <td>17.17</td>\n",
       "      <td>-93.169998</td>\n",
       "      <td>2025-01-01 12:48:20.024286464</td>\n",
       "      <td>0.471829</td>\n",
       "    </tr>\n",
       "    <tr>\n",
       "      <th>1228242</th>\n",
       "      <td>17.17</td>\n",
       "      <td>-93.150002</td>\n",
       "      <td>2025-01-01 12:48:20.024286464</td>\n",
       "      <td>0.507930</td>\n",
       "    </tr>\n",
       "    <tr>\n",
       "      <th>1228243</th>\n",
       "      <td>17.17</td>\n",
       "      <td>-93.129997</td>\n",
       "      <td>2025-01-01 12:48:20.024286464</td>\n",
       "      <td>0.668982</td>\n",
       "    </tr>\n",
       "    <tr>\n",
       "      <th>1228244</th>\n",
       "      <td>17.17</td>\n",
       "      <td>-93.110001</td>\n",
       "      <td>2025-01-01 12:48:20.024286464</td>\n",
       "      <td>0.613294</td>\n",
       "    </tr>\n",
       "    <tr>\n",
       "      <th>1228245</th>\n",
       "      <td>17.17</td>\n",
       "      <td>-93.089996</td>\n",
       "      <td>2025-01-01 12:48:20.024286464</td>\n",
       "      <td>0.376501</td>\n",
       "    </tr>\n",
       "    <tr>\n",
       "      <th>1228246</th>\n",
       "      <td>17.17</td>\n",
       "      <td>-93.070000</td>\n",
       "      <td>2025-01-01 12:48:20.024286464</td>\n",
       "      <td>0.285347</td>\n",
       "    </tr>\n",
       "    <tr>\n",
       "      <th>1228247</th>\n",
       "      <td>17.17</td>\n",
       "      <td>-93.050003</td>\n",
       "      <td>2025-01-01 12:48:20.024286464</td>\n",
       "      <td>0.298679</td>\n",
       "    </tr>\n",
       "    <tr>\n",
       "      <th>1228248</th>\n",
       "      <td>17.17</td>\n",
       "      <td>-93.029999</td>\n",
       "      <td>2025-01-01 12:48:20.024286464</td>\n",
       "      <td>0.343094</td>\n",
       "    </tr>\n",
       "    <tr>\n",
       "      <th>1228249</th>\n",
       "      <td>17.17</td>\n",
       "      <td>-93.010002</td>\n",
       "      <td>2025-01-01 12:48:20.024286464</td>\n",
       "      <td>0.493760</td>\n",
       "    </tr>\n",
       "    <tr>\n",
       "      <th>1228250</th>\n",
       "      <td>17.17</td>\n",
       "      <td>-92.989998</td>\n",
       "      <td>2025-01-01 12:48:20.024286464</td>\n",
       "      <td>0.648741</td>\n",
       "    </tr>\n",
       "    <tr>\n",
       "      <th>1228251</th>\n",
       "      <td>17.17</td>\n",
       "      <td>-92.970001</td>\n",
       "      <td>2025-01-01 12:48:20.024286464</td>\n",
       "      <td>0.604045</td>\n",
       "    </tr>\n",
       "    <tr>\n",
       "      <th>1228252</th>\n",
       "      <td>17.17</td>\n",
       "      <td>-92.949997</td>\n",
       "      <td>2025-01-01 12:48:20.024286464</td>\n",
       "      <td>0.540984</td>\n",
       "    </tr>\n",
       "    <tr>\n",
       "      <th>1228253</th>\n",
       "      <td>17.17</td>\n",
       "      <td>-92.930000</td>\n",
       "      <td>2025-01-01 12:48:20.024286464</td>\n",
       "      <td>0.453897</td>\n",
       "    </tr>\n",
       "    <tr>\n",
       "      <th>1228254</th>\n",
       "      <td>17.17</td>\n",
       "      <td>-92.910004</td>\n",
       "      <td>2025-01-01 12:48:20.024286464</td>\n",
       "      <td>0.434984</td>\n",
       "    </tr>\n",
       "    <tr>\n",
       "      <th>1228255</th>\n",
       "      <td>17.17</td>\n",
       "      <td>-92.889999</td>\n",
       "      <td>2025-01-01 12:48:20.024286464</td>\n",
       "      <td>0.530123</td>\n",
       "    </tr>\n",
       "    <tr>\n",
       "      <th>1228256</th>\n",
       "      <td>17.17</td>\n",
       "      <td>-92.870003</td>\n",
       "      <td>2025-01-01 12:48:20.024286464</td>\n",
       "      <td>0.570776</td>\n",
       "    </tr>\n",
       "    <tr>\n",
       "      <th>1228257</th>\n",
       "      <td>17.17</td>\n",
       "      <td>-92.849998</td>\n",
       "      <td>2025-01-01 12:48:20.024286464</td>\n",
       "      <td>0.507690</td>\n",
       "    </tr>\n",
       "    <tr>\n",
       "      <th>1228258</th>\n",
       "      <td>17.17</td>\n",
       "      <td>-92.830002</td>\n",
       "      <td>2025-01-01 12:48:20.024286464</td>\n",
       "      <td>0.214808</td>\n",
       "    </tr>\n",
       "    <tr>\n",
       "      <th>1228259</th>\n",
       "      <td>17.17</td>\n",
       "      <td>-92.809998</td>\n",
       "      <td>2025-01-01 12:48:20.024286464</td>\n",
       "      <td>0.009827</td>\n",
       "    </tr>\n",
       "    <tr>\n",
       "      <th>1228269</th>\n",
       "      <td>17.17</td>\n",
       "      <td>-92.610001</td>\n",
       "      <td>2025-01-01 12:48:20.024286464</td>\n",
       "      <td>0.034043</td>\n",
       "    </tr>\n",
       "    <tr>\n",
       "      <th>1228270</th>\n",
       "      <td>17.17</td>\n",
       "      <td>-92.589996</td>\n",
       "      <td>2025-01-01 12:48:20.024286464</td>\n",
       "      <td>0.220141</td>\n",
       "    </tr>\n",
       "    <tr>\n",
       "      <th>1228271</th>\n",
       "      <td>17.17</td>\n",
       "      <td>-92.570000</td>\n",
       "      <td>2025-01-01 12:48:20.024286464</td>\n",
       "      <td>0.314405</td>\n",
       "    </tr>\n",
       "    <tr>\n",
       "      <th>1228272</th>\n",
       "      <td>17.17</td>\n",
       "      <td>-92.550003</td>\n",
       "      <td>2025-01-01 12:48:20.024286464</td>\n",
       "      <td>0.446648</td>\n",
       "    </tr>\n",
       "    <tr>\n",
       "      <th>1228273</th>\n",
       "      <td>17.17</td>\n",
       "      <td>-92.529999</td>\n",
       "      <td>2025-01-01 12:48:20.024286464</td>\n",
       "      <td>0.546004</td>\n",
       "    </tr>\n",
       "    <tr>\n",
       "      <th>1228274</th>\n",
       "      <td>17.17</td>\n",
       "      <td>-92.510002</td>\n",
       "      <td>2025-01-01 12:48:20.024286464</td>\n",
       "      <td>0.618949</td>\n",
       "    </tr>\n",
       "    <tr>\n",
       "      <th>1228275</th>\n",
       "      <td>17.17</td>\n",
       "      <td>-92.489998</td>\n",
       "      <td>2025-01-01 12:48:20.024286464</td>\n",
       "      <td>0.503399</td>\n",
       "    </tr>\n",
       "    <tr>\n",
       "      <th>1228276</th>\n",
       "      <td>17.17</td>\n",
       "      <td>-92.470001</td>\n",
       "      <td>2025-01-01 12:48:20.024286464</td>\n",
       "      <td>0.305266</td>\n",
       "    </tr>\n",
       "    <tr>\n",
       "      <th>1228277</th>\n",
       "      <td>17.17</td>\n",
       "      <td>-92.449997</td>\n",
       "      <td>2025-01-01 12:48:20.024286464</td>\n",
       "      <td>0.115618</td>\n",
       "    </tr>\n",
       "    <tr>\n",
       "      <th>1228278</th>\n",
       "      <td>17.17</td>\n",
       "      <td>-92.430000</td>\n",
       "      <td>2025-01-01 12:48:20.024286464</td>\n",
       "      <td>0.069463</td>\n",
       "    </tr>\n",
       "    <tr>\n",
       "      <th>1228279</th>\n",
       "      <td>17.17</td>\n",
       "      <td>-92.410004</td>\n",
       "      <td>2025-01-01 12:48:20.024286464</td>\n",
       "      <td>0.002462</td>\n",
       "    </tr>\n",
       "    <tr>\n",
       "      <th>1228281</th>\n",
       "      <td>17.17</td>\n",
       "      <td>-92.370003</td>\n",
       "      <td>2025-01-01 12:48:20.024286464</td>\n",
       "      <td>0.001133</td>\n",
       "    </tr>\n",
       "    <tr>\n",
       "      <th>1228284</th>\n",
       "      <td>17.17</td>\n",
       "      <td>-92.309998</td>\n",
       "      <td>2025-01-01 12:48:20.024286464</td>\n",
       "      <td>0.075718</td>\n",
       "    </tr>\n",
       "    <tr>\n",
       "      <th>1228285</th>\n",
       "      <td>17.17</td>\n",
       "      <td>-92.290001</td>\n",
       "      <td>2025-01-01 12:48:20.024286464</td>\n",
       "      <td>0.271194</td>\n",
       "    </tr>\n",
       "    <tr>\n",
       "      <th>1228286</th>\n",
       "      <td>17.17</td>\n",
       "      <td>-92.269997</td>\n",
       "      <td>2025-01-01 12:48:20.024286464</td>\n",
       "      <td>0.408407</td>\n",
       "    </tr>\n",
       "    <tr>\n",
       "      <th>1228287</th>\n",
       "      <td>17.17</td>\n",
       "      <td>-92.250000</td>\n",
       "      <td>2025-01-01 12:48:20.024286464</td>\n",
       "      <td>0.536284</td>\n",
       "    </tr>\n",
       "    <tr>\n",
       "      <th>1228288</th>\n",
       "      <td>17.17</td>\n",
       "      <td>-92.230003</td>\n",
       "      <td>2025-01-01 12:48:20.024286464</td>\n",
       "      <td>0.330371</td>\n",
       "    </tr>\n",
       "    <tr>\n",
       "      <th>1228289</th>\n",
       "      <td>17.17</td>\n",
       "      <td>-92.209999</td>\n",
       "      <td>2025-01-01 12:48:20.024286464</td>\n",
       "      <td>0.082852</td>\n",
       "    </tr>\n",
       "    <tr>\n",
       "      <th>1228290</th>\n",
       "      <td>17.17</td>\n",
       "      <td>-92.190002</td>\n",
       "      <td>2025-01-01 12:48:20.024286464</td>\n",
       "      <td>0.001451</td>\n",
       "    </tr>\n",
       "    <tr>\n",
       "      <th>1228304</th>\n",
       "      <td>17.17</td>\n",
       "      <td>-91.910004</td>\n",
       "      <td>2025-01-01 12:48:20.024286464</td>\n",
       "      <td>0.037593</td>\n",
       "    </tr>\n",
       "    <tr>\n",
       "      <th>1228305</th>\n",
       "      <td>17.17</td>\n",
       "      <td>-91.889999</td>\n",
       "      <td>2025-01-01 12:48:20.024286464</td>\n",
       "      <td>0.069724</td>\n",
       "    </tr>\n",
       "    <tr>\n",
       "      <th>1228306</th>\n",
       "      <td>17.17</td>\n",
       "      <td>-91.870003</td>\n",
       "      <td>2025-01-01 12:48:20.024286464</td>\n",
       "      <td>0.012287</td>\n",
       "    </tr>\n",
       "  </tbody>\n",
       "</table>\n",
       "</div>"
      ],
      "text/plain": [
       "         latitude  longitude                          time    weight\n",
       "1228076     17.17 -96.470001 2025-01-01 12:48:20.024286464  0.002407\n",
       "1228077     17.17 -96.449997 2025-01-01 12:48:20.024286464  0.031854\n",
       "1228079     17.17 -96.410004 2025-01-01 12:48:20.024286464  0.026104\n",
       "1228080     17.17 -96.389999 2025-01-01 12:48:20.024286464  0.151505\n",
       "1228081     17.17 -96.370003 2025-01-01 12:48:20.024286464  0.282363\n",
       "1228082     17.17 -96.349998 2025-01-01 12:48:20.024286464  0.145316\n",
       "1228096     17.17 -96.070000 2025-01-01 12:48:20.024286464  0.076448\n",
       "1228097     17.17 -96.050003 2025-01-01 12:48:20.024286464  0.096833\n",
       "1228238     17.17 -93.230003 2025-01-01 12:48:20.024286464  0.050661\n",
       "1228239     17.17 -93.209999 2025-01-01 12:48:20.024286464  0.321145\n",
       "1228240     17.17 -93.190002 2025-01-01 12:48:20.024286464  0.444287\n",
       "1228241     17.17 -93.169998 2025-01-01 12:48:20.024286464  0.471829\n",
       "1228242     17.17 -93.150002 2025-01-01 12:48:20.024286464  0.507930\n",
       "1228243     17.17 -93.129997 2025-01-01 12:48:20.024286464  0.668982\n",
       "1228244     17.17 -93.110001 2025-01-01 12:48:20.024286464  0.613294\n",
       "1228245     17.17 -93.089996 2025-01-01 12:48:20.024286464  0.376501\n",
       "1228246     17.17 -93.070000 2025-01-01 12:48:20.024286464  0.285347\n",
       "1228247     17.17 -93.050003 2025-01-01 12:48:20.024286464  0.298679\n",
       "1228248     17.17 -93.029999 2025-01-01 12:48:20.024286464  0.343094\n",
       "1228249     17.17 -93.010002 2025-01-01 12:48:20.024286464  0.493760\n",
       "1228250     17.17 -92.989998 2025-01-01 12:48:20.024286464  0.648741\n",
       "1228251     17.17 -92.970001 2025-01-01 12:48:20.024286464  0.604045\n",
       "1228252     17.17 -92.949997 2025-01-01 12:48:20.024286464  0.540984\n",
       "1228253     17.17 -92.930000 2025-01-01 12:48:20.024286464  0.453897\n",
       "1228254     17.17 -92.910004 2025-01-01 12:48:20.024286464  0.434984\n",
       "1228255     17.17 -92.889999 2025-01-01 12:48:20.024286464  0.530123\n",
       "1228256     17.17 -92.870003 2025-01-01 12:48:20.024286464  0.570776\n",
       "1228257     17.17 -92.849998 2025-01-01 12:48:20.024286464  0.507690\n",
       "1228258     17.17 -92.830002 2025-01-01 12:48:20.024286464  0.214808\n",
       "1228259     17.17 -92.809998 2025-01-01 12:48:20.024286464  0.009827\n",
       "1228269     17.17 -92.610001 2025-01-01 12:48:20.024286464  0.034043\n",
       "1228270     17.17 -92.589996 2025-01-01 12:48:20.024286464  0.220141\n",
       "1228271     17.17 -92.570000 2025-01-01 12:48:20.024286464  0.314405\n",
       "1228272     17.17 -92.550003 2025-01-01 12:48:20.024286464  0.446648\n",
       "1228273     17.17 -92.529999 2025-01-01 12:48:20.024286464  0.546004\n",
       "1228274     17.17 -92.510002 2025-01-01 12:48:20.024286464  0.618949\n",
       "1228275     17.17 -92.489998 2025-01-01 12:48:20.024286464  0.503399\n",
       "1228276     17.17 -92.470001 2025-01-01 12:48:20.024286464  0.305266\n",
       "1228277     17.17 -92.449997 2025-01-01 12:48:20.024286464  0.115618\n",
       "1228278     17.17 -92.430000 2025-01-01 12:48:20.024286464  0.069463\n",
       "1228279     17.17 -92.410004 2025-01-01 12:48:20.024286464  0.002462\n",
       "1228281     17.17 -92.370003 2025-01-01 12:48:20.024286464  0.001133\n",
       "1228284     17.17 -92.309998 2025-01-01 12:48:20.024286464  0.075718\n",
       "1228285     17.17 -92.290001 2025-01-01 12:48:20.024286464  0.271194\n",
       "1228286     17.17 -92.269997 2025-01-01 12:48:20.024286464  0.408407\n",
       "1228287     17.17 -92.250000 2025-01-01 12:48:20.024286464  0.536284\n",
       "1228288     17.17 -92.230003 2025-01-01 12:48:20.024286464  0.330371\n",
       "1228289     17.17 -92.209999 2025-01-01 12:48:20.024286464  0.082852\n",
       "1228290     17.17 -92.190002 2025-01-01 12:48:20.024286464  0.001451\n",
       "1228304     17.17 -91.910004 2025-01-01 12:48:20.024286464  0.037593\n",
       "1228305     17.17 -91.889999 2025-01-01 12:48:20.024286464  0.069724\n",
       "1228306     17.17 -91.870003 2025-01-01 12:48:20.024286464  0.012287"
      ]
     },
     "execution_count": 97,
     "metadata": {},
     "output_type": "execute_result"
    }
   ],
   "source": [
    "df2[df2[\"latitude\"] == 17.17]"
   ]
  },
  {
   "cell_type": "code",
   "execution_count": 96,
   "id": "956df27c",
   "metadata": {},
   "outputs": [
    {
     "data": {
      "text/plain": [
       "(52, 4)"
      ]
     },
     "execution_count": 96,
     "metadata": {},
     "output_type": "execute_result"
    }
   ],
   "source": [
    "df2[df2[\"latitude\"] == 17.17].shape"
   ]
  },
  {
   "cell_type": "code",
   "execution_count": 91,
   "id": "f4d03a23",
   "metadata": {},
   "outputs": [
    {
     "data": {
      "text/plain": [
       "(5311609, 4)"
      ]
     },
     "execution_count": 91,
     "metadata": {},
     "output_type": "execute_result"
    }
   ],
   "source": [
    "df2[~df2['weight'].isna()].shape"
   ]
  },
  {
   "cell_type": "code",
   "execution_count": 89,
   "id": "ac3191db",
   "metadata": {},
   "outputs": [
    {
     "data": {
      "text/plain": [
       "np.float32(4.991369)"
      ]
     },
     "execution_count": 89,
     "metadata": {},
     "output_type": "execute_result"
    }
   ],
   "source": [
    "df2['weight'].max()"
   ]
  },
  {
   "cell_type": "code",
   "execution_count": 81,
   "id": "502a715c",
   "metadata": {},
   "outputs": [
    {
     "data": {
      "text/plain": [
       "(2950, 7750, 1)"
      ]
     },
     "execution_count": 81,
     "metadata": {},
     "output_type": "execute_result"
    }
   ],
   "source": [
    "ds.latitude.shape[0], ds.longitude.shape[0], ds.time.shape[0]"
   ]
  },
  {
   "cell_type": "code",
   "execution_count": 75,
   "id": "c045c76f",
   "metadata": {},
   "outputs": [
    {
     "name": "stdout",
     "output_type": "stream",
     "text": [
      "Data variables:\n",
      "    weight   (latitude, longitude) float32 91MB ...\n",
      "Coordinates:\n",
      "  * longitude  (longitude) float32 31kB -168.0 -168.0 -167.9 ... -13.03 -13.01\n",
      "  * latitude   (latitude) float32 12kB 14.01 14.03 14.05 ... 72.95 72.97 72.99\n",
      "  * time       (time) datetime64[ns] 8B 2025-01-01T12:48:20.024286464\n",
      "{'history': '2025-01-01T18:55:51Z: L2_regrid -v /tempo/nas0/sdpc/liveroot/temposdpc/ops4/etc/l3.cfg\\n', 'scan_num': np.int32(2), 'time_coverage_start': '2025-01-01T12:48:02Z', 'time_coverage_end': '2025-01-01T13:27:51Z', 'time_coverage_start_since_epoch': np.float64(1419770900.0242865), 'time_coverage_end_since_epoch': np.float64(1419773289.6518493), 'product_type': 'NO2', 'processing_level': '3', 'processing_version': np.int32(3), 'sdpc_version': 'TEMPO_SDPC_v4.4.3', 'production_date_time': '2025-01-01T18:55:52Z', 'begin_date': '2025-01-01', 'begin_time': '12:48:02', 'end_date': '2025-01-01', 'end_time': '13:27:51', 'local_granule_id': 'TEMPO_NO2_L3_V03_20250101T124802Z_S002.nc', 'version_id': np.int32(3), 'pge_version': '1.0.0', 'shortname': 'TEMPO_NO2_L3', 'input_files': ['TEMPO_NO2_L2_V03_20250101T124802Z_S002G01.nc', 'TEMPO_NO2_L2_V03_20250101T125442Z_S002G02.nc', 'TEMPO_NO2_L2_V03_20250101T130122Z_S002G03.nc', 'TEMPO_NO2_L2_V03_20250101T130800Z_S002G04.nc', 'TEMPO_NO2_L2_V03_20250101T131437Z_S002G05.nc', 'TEMPO_NO2_L2_V03_20250101T132114Z_S002G06.nc'], 'geospatial_bounds': 'POLYGON((57.5000 -110.7200,53.4000 -108.4800,49.3600 -106.7800,44.3800 -105.1600,39.1200 -103.8600,33.5400 -102.8200,28.3000 -102.0800,22.7800 -101.5000,17.2000 -101.0800,17.2000 -83.4400,17.4800 -65.1000,21.0600 -64.3200,25.6400 -63.0600,29.5800 -61.7000,32.8800 -60.3200,36.4600 -58.5200,39.2600 -56.8400,42.4000 -54.6000,45.2200 -52.1800,48.1000 -49.1800,50.6400 -45.9400,52.7400 -42.6800,54.8800 -38.5800,56.6000 -34.4400,57.9800 -30.2600,59.1000 -25.9400,59.7400 -22.8400,60.1000 -20.6400,60.1800 -20.6000,60.2200 -20.3200,61.3000 -20.3600,61.2800 -20.5000,61.5600 -20.5200,61.5400 -20.6800,62.0400 -20.7000,62.0200 -20.8200,62.9800 -20.8400,62.8800 -21.6600,63.6000 -21.6800,63.5000 -22.3600,63.7600 -22.3800,63.7600 -22.5000,61.8200 -36.1000,60.7600 -44.0800,60.0800 -49.9400,59.4400 -55.9000,58.7400 -63.4600,58.0000 -74.3600,57.6400 -83.4800,57.5400 -93.3000,57.6800 -101.3200,58.1200 -110.7200,57.5000 -110.7200))', 'geospatial_bounds_crs': 'EPSG:4326', 'geospatial_lon_min': np.float32(-110.72), 'geospatial_lon_max': np.float32(-20.320007), 'geospatial_lat_min': np.float32(17.2), 'geospatial_lat_max': np.float32(63.76), 'time_reference': '1980-01-06T00:00:00Z', 'day_of_year': np.int64(1), 'project': 'TEMPO', 'platform': 'Intelsat 40e', 'source': 'UV-VIS hyperspectral imaging', 'institution': 'Smithsonian Astrophysical Observatory', 'creator_url': 'http://tempo.si.edu', 'Conventions': 'CF-1.6, ACDD-1.3', 'title': 'TEMPO Level 3 nitrogen dioxide product', 'collection_shortname': 'TEMPO_NO2_L3', 'collection_version': np.int64(1), 'keywords': 'EARTH SCIENCE>ATMOSPHERE>AIR QUALITY>NITROGEN OXIDES, EARTH SCIENCE>ATMOSPHERE>ATMOSPHERIC CHEMISTRY>NITROGEN COMPOUNDS>NITROGEN DIOXIDE', 'summary': 'Nitrogen dioxide Level 3 files provide trace gas information on a regular grid covering the TEMPO field of regard for nominal TEMPO observations. Level 3 files are derived by combining information from all Level 2 files constituting a TEMPO East-West scan cycle. The files are provided in netCDF4 format, and contain information on tropospheric, stratospheric and total nitrogen dioxide vertical columns, ancillary data used in air mass factor and stratospheric/tropospheric separation calculations, and retrieval quality flags. The re-gridding algorithm uses an area-weighted approach.', 'coremetadata': '\\nGROUP                  = INVENTORYMETADATA\\n  GROUPTYPE            = MASTERGROUP\\n\\n  GROUP                  = ECSDATAGRANULE\\n\\n    OBJECT                 = LOCALGRANULEID\\n      NUM_VAL              = 1\\n      VALUE                = \"TEMPO_NO2_L3_V03_20250101T124802Z_S002.nc\"\\n    END_OBJECT             = LOCALGRANULEID\\n\\n    OBJECT                 = LOCALVERSIONID\\n      NUM_VAL              = 1\\n      VALUE                = (\"RFC1321 MD5 = not yet calculated\")\\n    END_OBJECT             = LOCALVERSIONID\\n\\n    OBJECT                 = PRODUCTIONDATETIME\\n      NUM_VAL              = 1\\n      VALUE                = \"2025-01-01T18:55:52Z\"\\n    END_OBJECT             = PRODUCTIONDATETIME\\n\\n  END_GROUP              = ECSDATAGRANULE\\n\\n  GROUP                  = COLLECTIONDESCRIPTIONCLASS\\n\\n    OBJECT                 = SHORTNAME\\n      NUM_VAL              = 1\\n      VALUE                = \"TEMPO_NO2_L3\"\\n    END_OBJECT             = SHORTNAME\\n\\n    OBJECT                 = VERSIONID\\n      NUM_VAL              = 1\\n      VALUE                = 3\\n    END_OBJECT             = VERSIONID\\n\\n  END_GROUP              = COLLECTIONDESCRIPTIONCLASS\\n\\n  GROUP                  = INPUTGRANULE\\n\\n    OBJECT                 = INPUTPOINTER\\n      NUM_VAL              = 6\\n      VALUE                = (\"TEMPO_NO2_L2_V03_20250101T124802Z_S002G01.nc\", \"TEMPO_NO2_L2_V03_20250101T125442Z_S002G02.nc\", \"TEMPO_NO2_L2_V03_20250101T130122Z_S002G03.nc\", \"TEMPO_NO2_L2_V03_20250101T130800Z_S002G04.nc\", \"TEMPO_NO2_L2_V03_20250101T131437Z_S002G05.nc\", \"TEMPO_NO2_L2_V03_20250101T132114Z_S002G06.nc\")\\n    END_OBJECT             = INPUTPOINTER\\n\\n  END_GROUP              = INPUTGRANULE\\n\\n  GROUP                  = SPATIALDOMAINCONTAINER\\n\\n    GROUP                  = HORIZONTALSPATIALDOMAINCONTAINER\\n\\n      GROUP                  = GPOLYGON\\n\\n        OBJECT                 = GPOLYGONCONTAINER\\n          CLASS                = \"1\"\\n\\n          GROUP                  = GRINGPOINT\\n            CLASS                = \"1\"\\n\\n            OBJECT                 = GRINGPOINTLONGITUDE\\n              NUM_VAL              = 53\\n              CLASS                = \"1\"\\n              VALUE                = (-110.72, -108.48, -106.78, -105.16, -103.86, -102.82, -102.08, -101.5, -101.08, -83.44, -65.10001, -64.32, -63.06001, -61.7, -60.32, -58.52, -56.84, -54.60001, -52.18, -49.18, -45.94, -42.68, -38.58, -34.44, -30.26001, -25.94, -22.84, -20.64, -20.60001, -20.32001, -20.36, -20.5, -20.52, -20.68001, -20.7, -20.82001, -20.84, -21.66, -21.68001, -22.36, -22.38, -22.5, -36.10001, -44.08, -49.94, -55.9, -63.46, -74.36, -83.48, -93.3, -101.32, -110.72, -110.72)\\n            END_OBJECT             = GRINGPOINTLONGITUDE\\n\\n            OBJECT                 = GRINGPOINTLATITUDE\\n              NUM_VAL              = 53\\n              CLASS                = \"1\"\\n              VALUE                = (57.5, 53.4, 49.36, 44.38, 39.12, 33.54, 28.3, 22.78, 17.2, 17.2, 17.48, 21.06, 25.64, 29.58, 32.88, 36.46, 39.26, 42.4, 45.22, 48.1, 50.64, 52.74, 54.88, 56.6, 57.98, 59.1, 59.74, 60.1, 60.18, 60.22, 61.3, 61.28, 61.56, 61.54, 62.04, 62.02, 62.98, 62.88, 63.6, 63.5, 63.76, 63.76, 61.82, 60.76, 60.08, 59.44, 58.74, 58, 57.64, 57.54, 57.68, 58.12, 57.5)\\n            END_OBJECT             = GRINGPOINTLATITUDE\\n\\n            OBJECT                 = GRINGPOINTSEQUENCENO\\n              NUM_VAL              = 53\\n              CLASS                = \"1\"\\n              VALUE                = (1, 2, 3, 4, 5, 6, 7, 8, 9, 10, 11, 12, 13, 14, 15, 16, 17, 18, 19, 20, 21, 22, 23, 24, 25, 26, 27, 28, 29, 30, 31, 32, 33, 34, 35, 36, 37, 38, 39, 40, 41, 42, 43, 44, 45, 46, 47, 48, 49, 50, 51, 52, 53)\\n            END_OBJECT             = GRINGPOINTSEQUENCENO\\n\\n          END_GROUP              = GRINGPOINT\\n\\n          GROUP                  = GRING\\n            CLASS                = \"1\"\\n\\n            OBJECT                 = EXCLUSIONGRINGFLAG\\n              NUM_VAL              = 1\\n              VALUE                = \"N\"\\n              CLASS                = \"1\"\\n            END_OBJECT             = EXCLUSIONGRINGFLAG\\n\\n          END_GROUP              = GRING\\n\\n        END_OBJECT             = GPOLYGONCONTAINER\\n\\n      END_GROUP              = GPOLYGON\\n\\n    END_GROUP              = HORIZONTALSPATIALDOMAINCONTAINER\\n\\n  END_GROUP              = SPATIALDOMAINCONTAINER\\n\\n  GROUP                  = RANGEDATETIME\\n\\n    OBJECT                 = RANGEENDINGDATE\\n      NUM_VAL              = 1\\n      VALUE                = \"2025-01-01\"\\n    END_OBJECT             = RANGEENDINGDATE\\n\\n    OBJECT                 = RANGEENDINGTIME\\n      NUM_VAL              = 1\\n      VALUE                = \"13:27:51\"\\n    END_OBJECT             = RANGEENDINGTIME\\n\\n    OBJECT                 = RANGEBEGINNINGDATE\\n      NUM_VAL              = 1\\n      VALUE                = \"2025-01-01\"\\n    END_OBJECT             = RANGEBEGINNINGDATE\\n\\n    OBJECT                 = RANGEBEGINNINGTIME\\n      NUM_VAL              = 1\\n      VALUE                = \"12:48:02\"\\n    END_OBJECT             = RANGEBEGINNINGTIME\\n\\n  END_GROUP              = RANGEDATETIME\\n\\n  GROUP                  = PGEVERSIONCLASS\\n\\n    OBJECT                 = PGEVERSION\\n      NUM_VAL              = 1\\n      VALUE                = \"1.0.0\"\\n    END_OBJECT             = PGEVERSION\\n\\n  END_GROUP              = PGEVERSIONCLASS\\n\\nEND_GROUP              = INVENTORYMETADATA\\n\\nEND\\n'}\n"
     ]
    },
    {
     "ename": "KeyError",
     "evalue": "\"No variable named 'tas'. Variables on the dataset include ['weight', 'longitude', 'latitude', 'time']\"",
     "output_type": "error",
     "traceback": [
      "\u001b[31m---------------------------------------------------------------------------\u001b[39m",
      "\u001b[31mKeyError\u001b[39m                                  Traceback (most recent call last)",
      "\u001b[32m~/Documents/PersonalProjects/NASA_Challenge_2025/data-operations/.venv/lib/python3.13/site-packages/xarray/core/dataset.py\u001b[39m in \u001b[36m?\u001b[39m\u001b[34m(self, name)\u001b[39m\n\u001b[32m   1230\u001b[39m             variable = self._variables[name]\n\u001b[32m   1231\u001b[39m         \u001b[38;5;28;01mexcept\u001b[39;00m KeyError:\n\u001b[32m-> \u001b[39m\u001b[32m1232\u001b[39m             _, name, variable = _get_virtual_variable(self._variables, name, self.sizes)\n\u001b[32m   1233\u001b[39m \n",
      "\u001b[31mKeyError\u001b[39m: 'tas'",
      "\nDuring handling of the above exception, another exception occurred:\n",
      "\u001b[31mKeyError\u001b[39m                                  Traceback (most recent call last)",
      "\u001b[36mFile \u001b[39m\u001b[32m~/Documents/PersonalProjects/NASA_Challenge_2025/data-operations/.venv/lib/python3.13/site-packages/xarray/core/dataset.py:1337\u001b[39m, in \u001b[36mDataset.__getitem__\u001b[39m\u001b[34m(self, key)\u001b[39m\n\u001b[32m   1336\u001b[39m \u001b[38;5;28;01mtry\u001b[39;00m:\n\u001b[32m-> \u001b[39m\u001b[32m1337\u001b[39m     \u001b[38;5;28;01mreturn\u001b[39;00m \u001b[38;5;28;43mself\u001b[39;49m\u001b[43m.\u001b[49m\u001b[43m_construct_dataarray\u001b[49m\u001b[43m(\u001b[49m\u001b[43mkey\u001b[49m\u001b[43m)\u001b[49m\n\u001b[32m   1338\u001b[39m \u001b[38;5;28;01mexcept\u001b[39;00m \u001b[38;5;167;01mKeyError\u001b[39;00m \u001b[38;5;28;01mas\u001b[39;00m e:\n",
      "\u001b[36mFile \u001b[39m\u001b[32m~/Documents/PersonalProjects/NASA_Challenge_2025/data-operations/.venv/lib/python3.13/site-packages/xarray/core/dataset.py:1232\u001b[39m, in \u001b[36mDataset._construct_dataarray\u001b[39m\u001b[34m(self, name)\u001b[39m\n\u001b[32m   1231\u001b[39m \u001b[38;5;28;01mexcept\u001b[39;00m \u001b[38;5;167;01mKeyError\u001b[39;00m:\n\u001b[32m-> \u001b[39m\u001b[32m1232\u001b[39m     _, name, variable = \u001b[43m_get_virtual_variable\u001b[49m\u001b[43m(\u001b[49m\u001b[38;5;28;43mself\u001b[39;49m\u001b[43m.\u001b[49m\u001b[43m_variables\u001b[49m\u001b[43m,\u001b[49m\u001b[43m \u001b[49m\u001b[43mname\u001b[49m\u001b[43m,\u001b[49m\u001b[43m \u001b[49m\u001b[38;5;28;43mself\u001b[39;49m\u001b[43m.\u001b[49m\u001b[43msizes\u001b[49m\u001b[43m)\u001b[49m\n\u001b[32m   1234\u001b[39m needed_dims = \u001b[38;5;28mset\u001b[39m(variable.dims)\n",
      "\u001b[36mFile \u001b[39m\u001b[32m~/Documents/PersonalProjects/NASA_Challenge_2025/data-operations/.venv/lib/python3.13/site-packages/xarray/core/dataset_utils.py:79\u001b[39m, in \u001b[36m_get_virtual_variable\u001b[39m\u001b[34m(variables, key, dim_sizes)\u001b[39m\n\u001b[32m     78\u001b[39m \u001b[38;5;28;01mif\u001b[39;00m \u001b[38;5;28mlen\u001b[39m(split_key) != \u001b[32m2\u001b[39m:\n\u001b[32m---> \u001b[39m\u001b[32m79\u001b[39m     \u001b[38;5;28;01mraise\u001b[39;00m \u001b[38;5;167;01mKeyError\u001b[39;00m(key)\n\u001b[32m     81\u001b[39m ref_name, var_name = split_key\n",
      "\u001b[31mKeyError\u001b[39m: 'tas'",
      "\nThe above exception was the direct cause of the following exception:\n",
      "\u001b[31mKeyError\u001b[39m                                  Traceback (most recent call last)",
      "\u001b[32m/var/folders/78/l07nwp291d17m9j1z3ylv1n40000gn/T/ipykernel_52414/14036423.py\u001b[39m in \u001b[36m?\u001b[39m\u001b[34m()\u001b[39m\n\u001b[32m      1\u001b[39m print(ds.data_vars)      \u001b[38;5;66;03m# list all variables\u001b[39;00m\n\u001b[32m      2\u001b[39m print(ds.coords)         \u001b[38;5;66;03m# list coordinates\u001b[39;00m\n\u001b[32m      3\u001b[39m print(ds.attrs)          \u001b[38;5;66;03m# view global metadata\u001b[39;00m\n\u001b[32m----> \u001b[39m\u001b[32m4\u001b[39m print(ds[\u001b[33m'tas'\u001b[39m])         \u001b[38;5;66;03m# view variable metadata\u001b[39;00m\n",
      "\u001b[32m~/Documents/PersonalProjects/NASA_Challenge_2025/data-operations/.venv/lib/python3.13/site-packages/xarray/core/dataset.py\u001b[39m in \u001b[36m?\u001b[39m\u001b[34m(self, key)\u001b[39m\n\u001b[32m   1346\u001b[39m \n\u001b[32m   1347\u001b[39m                 \u001b[38;5;66;03m# If someone attempts `ds['foo' , 'bar']` instead of `ds[['foo', 'bar']]`\u001b[39;00m\n\u001b[32m   1348\u001b[39m                 \u001b[38;5;28;01mif\u001b[39;00m isinstance(key, tuple):\n\u001b[32m   1349\u001b[39m                     message += f\"\\nHint: use a list to select multiple variables, for example `ds[{list(key)}]`\"\n\u001b[32m-> \u001b[39m\u001b[32m1350\u001b[39m                 \u001b[38;5;28;01mraise\u001b[39;00m KeyError(message) \u001b[38;5;28;01mfrom\u001b[39;00m e\n\u001b[32m   1351\u001b[39m \n\u001b[32m   1352\u001b[39m         \u001b[38;5;28;01mif\u001b[39;00m utils.iterable_of_hashable(key):\n\u001b[32m   1353\u001b[39m             \u001b[38;5;28;01mreturn\u001b[39;00m self._copy_listed(key)\n",
      "\u001b[31mKeyError\u001b[39m: \"No variable named 'tas'. Variables on the dataset include ['weight', 'longitude', 'latitude', 'time']\""
     ]
    }
   ],
   "source": [
    "print(ds.data_vars)      # list all variables\n",
    "print(ds.coords)         # list coordinates\n",
    "print(ds.attrs)          # view global metadata\n",
    "print(ds['tas'])         # view variable metadata"
   ]
  }
 ],
 "metadata": {
  "kernelspec": {
   "display_name": ".venv",
   "language": "python",
   "name": "python3"
  },
  "language_info": {
   "codemirror_mode": {
    "name": "ipython",
    "version": 3
   },
   "file_extension": ".py",
   "mimetype": "text/x-python",
   "name": "python",
   "nbconvert_exporter": "python",
   "pygments_lexer": "ipython3",
   "version": "3.13.5"
  }
 },
 "nbformat": 4,
 "nbformat_minor": 5
}
